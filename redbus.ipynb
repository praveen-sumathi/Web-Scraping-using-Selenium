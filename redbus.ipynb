{
 "cells": [
  {
   "cell_type": "code",
   "execution_count": 1,
   "id": "4f238fae-9e30-4bc0-9089-9b454b1d41a9",
   "metadata": {},
   "outputs": [],
   "source": [
    "#importing libraries\n",
    "from selenium import webdriver\n",
    "from selenium.webdriver import ActionChains\n",
    "from selenium.webdriver.common.by import By\n",
    "from selenium.webdriver.common.keys import Keys\n",
    "from selenium.common.exceptions import TimeoutException, NoSuchElementException\n",
    "import time\n",
    "from selenium.webdriver.support.ui import WebDriverWait\n",
    "from selenium.webdriver.support import expected_conditions as EC\n",
    "import pandas as pd"
   ]
  },
  {
   "cell_type": "code",
   "execution_count": 3,
   "id": "d8919126-a42c-4f22-a108-dbc381c9f461",
   "metadata": {},
   "outputs": [
    {
     "name": "stdout",
     "output_type": "stream",
     "text": [
      "Requirement already satisfied: selenium in c:\\users\\veevas smart\\appdata\\local\\programs\\python\\python311\\lib\\site-packages (4.24.0)Note: you may need to restart the kernel to use updated packages.\n",
      "\n",
      "Requirement already satisfied: urllib3<3,>=1.26 in c:\\users\\veevas smart\\appdata\\local\\programs\\python\\python311\\lib\\site-packages (from urllib3[socks]<3,>=1.26->selenium) (2.2.1)\n",
      "Requirement already satisfied: trio~=0.17 in c:\\users\\veevas smart\\appdata\\local\\programs\\python\\python311\\lib\\site-packages (from selenium) (0.26.2)\n",
      "Requirement already satisfied: trio-websocket~=0.9 in c:\\users\\veevas smart\\appdata\\local\\programs\\python\\python311\\lib\\site-packages (from selenium) (0.11.1)\n",
      "Requirement already satisfied: certifi>=2021.10.8 in c:\\users\\veevas smart\\appdata\\local\\programs\\python\\python311\\lib\\site-packages (from selenium) (2024.2.2)\n",
      "Requirement already satisfied: typing_extensions~=4.9 in c:\\users\\veevas smart\\appdata\\local\\programs\\python\\python311\\lib\\site-packages (from selenium) (4.10.0)\n",
      "Requirement already satisfied: websocket-client~=1.8 in c:\\users\\veevas smart\\appdata\\local\\programs\\python\\python311\\lib\\site-packages (from selenium) (1.8.0)\n",
      "Requirement already satisfied: attrs>=23.2.0 in c:\\users\\veevas smart\\appdata\\local\\programs\\python\\python311\\lib\\site-packages (from trio~=0.17->selenium) (23.2.0)\n",
      "Requirement already satisfied: sortedcontainers in c:\\users\\veevas smart\\appdata\\local\\programs\\python\\python311\\lib\\site-packages (from trio~=0.17->selenium) (2.4.0)\n",
      "Requirement already satisfied: idna in c:\\users\\veevas smart\\appdata\\local\\programs\\python\\python311\\lib\\site-packages (from trio~=0.17->selenium) (3.6)\n",
      "Requirement already satisfied: outcome in c:\\users\\veevas smart\\appdata\\local\\programs\\python\\python311\\lib\\site-packages (from trio~=0.17->selenium) (1.3.0.post0)\n",
      "Requirement already satisfied: sniffio>=1.3.0 in c:\\users\\veevas smart\\appdata\\local\\programs\\python\\python311\\lib\\site-packages (from trio~=0.17->selenium) (1.3.1)\n",
      "Requirement already satisfied: cffi>=1.14 in c:\\users\\veevas smart\\appdata\\local\\programs\\python\\python311\\lib\\site-packages (from trio~=0.17->selenium) (1.17.1)\n",
      "Requirement already satisfied: wsproto>=0.14 in c:\\users\\veevas smart\\appdata\\local\\programs\\python\\python311\\lib\\site-packages (from trio-websocket~=0.9->selenium) (1.2.0)\n",
      "Requirement already satisfied: pysocks!=1.5.7,<2.0,>=1.5.6 in c:\\users\\veevas smart\\appdata\\local\\programs\\python\\python311\\lib\\site-packages (from urllib3[socks]<3,>=1.26->selenium) (1.7.1)\n",
      "Requirement already satisfied: pycparser in c:\\users\\veevas smart\\appdata\\local\\programs\\python\\python311\\lib\\site-packages (from cffi>=1.14->trio~=0.17->selenium) (2.22)\n",
      "Requirement already satisfied: h11<1,>=0.9.0 in c:\\users\\veevas smart\\appdata\\local\\programs\\python\\python311\\lib\\site-packages (from wsproto>=0.14->trio-websocket~=0.9->selenium) (0.14.0)\n"
     ]
    }
   ],
   "source": [
    "pip install selenium"
   ]
  },
  {
   "cell_type": "code",
   "execution_count": 1,
   "id": "58602b61-0b3d-4c52-b936-5a3a194c8a8a",
   "metadata": {},
   "outputs": [
    {
     "ename": "NameError",
     "evalue": "name 'webdriver' is not defined",
     "output_type": "error",
     "traceback": [
      "\u001b[1;31m---------------------------------------------------------------------------\u001b[0m",
      "\u001b[1;31mNameError\u001b[0m                                 Traceback (most recent call last)",
      "Cell \u001b[1;32mIn[1], line 3\u001b[0m\n\u001b[0;32m      1\u001b[0m \u001b[38;5;66;03m#open the browser\u001b[39;00m\n\u001b[1;32m----> 3\u001b[0m driver\u001b[38;5;241m=\u001b[39m\u001b[43mwebdriver\u001b[49m\u001b[38;5;241m.\u001b[39mChrome()\n\u001b[0;32m      5\u001b[0m \u001b[38;5;66;03m#load the webpage\u001b[39;00m\n\u001b[0;32m      7\u001b[0m driver\u001b[38;5;241m.\u001b[39mget(\u001b[38;5;124m\"\u001b[39m\u001b[38;5;124mhttps://www.redbus.in/online-booking/ksrtc-kerala/?utm_source=rtchometile\u001b[39m\u001b[38;5;124m\"\u001b[39m)\n",
      "\u001b[1;31mNameError\u001b[0m: name 'webdriver' is not defined"
     ]
    }
   ],
   "source": [
    "#open the browser\n",
    "\n",
    "driver=webdriver.Chrome()\n",
    "\n",
    "#load the webpage\n",
    "\n",
    "driver.get(\"https://www.redbus.in/online-booking/ksrtc-kerala/?utm_source=rtchometile\")\n",
    "#driver.get(\"https://www.redbus.in/online-booking/apsrtc/?utm_source=rtchometile\")\n",
    "\n",
    "time.sleep(3)\n",
    "\n",
    "driver.maximize_window()"
   ]
  },
  {
   "cell_type": "code",
   "execution_count": 21,
   "id": "372dd6ac-8099-43ee-8918-8da436dfc00b",
   "metadata": {},
   "outputs": [],
   "source": [
    "from selenium.webdriver.common.by import By\n",
    "from selenium.webdriver.support.ui import WebDriverWait\n",
    "from selenium.webdriver.support import expected_conditions as EC\n",
    "from selenium.common.exceptions import NoSuchElementException, ElementClickInterceptedException\n",
    "import time\n",
    "\n",
    "#implicit wait\n",
    "wait = WebDriverWait(driver, 20)\n",
    "\n",
    "def Kerala_link_route(path):   \n",
    "    LINKS_KERALA = []\n",
    "    ROUTE_KERALA = []\n",
    "\n",
    "    # Retrieve the route links and route names\n",
    "    for i in range(1, 4):  # Adjust the range based on the actual number of pages, e.g., 4\n",
    "        paths = driver.find_elements(By.XPATH, path)\n",
    "        \n",
    "        # Retrieve links\n",
    "        for links in paths:\n",
    "            d = links.get_attribute(\"href\")\n",
    "            LINKS_KERALA.append(d)\n",
    "        \n",
    "        # Retrieve names of the routes\n",
    "        for route in paths:\n",
    "            ROUTE_KERALA.append(route.text)\n",
    "\n",
    "        try:\n",
    "            # Wait for the pagination element to be present\n",
    "            pagination = wait.until(EC.presence_of_element_located((By.XPATH, '//*[@class=\"DC_117_paginationTable\"]')))\n",
    "            \n",
    "            # Check if next button for the next page exists\n",
    "            next_button_xpath = f'//div[@class=\"DC_117_pageTabs \" and text()={i+1}]'\n",
    "            if len(driver.find_elements(By.XPATH, next_button_xpath)) > 0:\n",
    "                next_button = driver.find_element(By.XPATH, next_button_xpath)\n",
    "                \n",
    "                # Scroll into view and click the next button using JavaScript\n",
    "                driver.execute_script(\"arguments[0].scrollIntoView(true);\", next_button)\n",
    "                time.sleep(2)  # Ensure some time for scrolling\n",
    "\n",
    "                # Explicitly wait for the next button to be clickable\n",
    "                wait.until(EC.element_to_be_clickable(next_button))\n",
    "                driver.execute_script(\"arguments[0].click();\", next_button)  # Click using JavaScript\n",
    "\n",
    "            else:\n",
    "                print(f\"No more pages to paginate at step {i}\")\n",
    "                break  # No more pages, exit the loop\n",
    "\n",
    "        except (NoSuchElementException, ElementClickInterceptedException) as e:\n",
    "            print(f\"Encountered an issue at step {i}: {e}\")\n",
    "            break\n",
    "        \n",
    "    return LINKS_KERALA, ROUTE_KERALA\n",
    "\n",
    "# Calling the function to get links and routes\n",
    "LINKS_KERALA, ROUTE_KERALA = Kerala_link_route(\"//a[@class='route']\")\n"
   ]
  },
  {
   "cell_type": "code",
   "execution_count": 3,
   "id": "0de462c7-e9b5-40cf-9a25-a10860e982c3",
   "metadata": {},
   "outputs": [
    {
     "ename": "NameError",
     "evalue": "name 'pd' is not defined",
     "output_type": "error",
     "traceback": [
      "\u001b[1;31m---------------------------------------------------------------------------\u001b[0m",
      "\u001b[1;31mNameError\u001b[0m                                 Traceback (most recent call last)",
      "Cell \u001b[1;32mIn[3], line 1\u001b[0m\n\u001b[1;32m----> 1\u001b[0m df_k\u001b[38;5;241m=\u001b[39m\u001b[43mpd\u001b[49m\u001b[38;5;241m.\u001b[39mDataFrame({\u001b[38;5;124m\"\u001b[39m\u001b[38;5;124mRoute_name\u001b[39m\u001b[38;5;124m\"\u001b[39m:ROUTE_KERALA,\u001b[38;5;124m\"\u001b[39m\u001b[38;5;124mRoute_link\u001b[39m\u001b[38;5;124m\"\u001b[39m:LINKS_KERALA})\n\u001b[0;32m      2\u001b[0m df_k\n",
      "\u001b[1;31mNameError\u001b[0m: name 'pd' is not defined"
     ]
    }
   ],
   "source": [
    "df_k=pd.DataFrame({\"Route_name\":ROUTE_KERALA,\"Route_link\":LINKS_KERALA})\n",
    "df_k"
   ]
  },
  {
   "cell_type": "code",
   "execution_count": 24,
   "id": "90882b02-96c4-4869-8be3-a944f1dc42e8",
   "metadata": {},
   "outputs": [],
   "source": [
    "df = df_k"
   ]
  },
  {
   "cell_type": "code",
   "execution_count": 4,
   "id": "2a144fa8-24d0-42b9-9c49-38713a59cb2f",
   "metadata": {},
   "outputs": [
    {
     "ename": "NameError",
     "evalue": "name 'webdriver' is not defined",
     "output_type": "error",
     "traceback": [
      "\u001b[1;31m---------------------------------------------------------------------------\u001b[0m",
      "\u001b[1;31mNameError\u001b[0m                                 Traceback (most recent call last)",
      "Cell \u001b[1;32mIn[4], line 2\u001b[0m\n\u001b[0;32m      1\u001b[0m \u001b[38;5;66;03m#retrive the bus details\u001b[39;00m\n\u001b[1;32m----> 2\u001b[0m driver_k \u001b[38;5;241m=\u001b[39m \u001b[43mwebdriver\u001b[49m\u001b[38;5;241m.\u001b[39mChrome()\n\u001b[0;32m      3\u001b[0m Bus_names_k \u001b[38;5;241m=\u001b[39m []\n\u001b[0;32m      4\u001b[0m Bus_types_k \u001b[38;5;241m=\u001b[39m []\n",
      "\u001b[1;31mNameError\u001b[0m: name 'webdriver' is not defined"
     ]
    }
   ],
   "source": [
    "\n",
    "#retrive the bus details\n",
    "driver_k = webdriver.Chrome()\n",
    "Bus_names_k = []\n",
    "Bus_types_k = []\n",
    "Start_Time_k = []\n",
    "End_Time_k = []\n",
    "Ratings_k = []\n",
    "Total_Duration_k = []\n",
    "Prices_k = []\n",
    "Seats_Available_k = []\n",
    "Route_names = []\n",
    "Route_links = []\n",
    "\n",
    "for i,r in df.iterrows():\n",
    "    link=r[\"Route_link\"]\n",
    "    routes=r[\"Route_name\"]\n",
    "\n",
    "# Loop through each link\n",
    "    driver_k.get(link)\n",
    "    time.sleep(2)  \n",
    "\n",
    "    # Click on elements to reveal bus details\n",
    "    elements = driver_k.find_elements(By.XPATH, f\"//a[contains(@href, '{link}')]\")\n",
    "    for element in elements:\n",
    "        element.click()\n",
    "        time.sleep(2)\n",
    "        \n",
    "    # click elements to views bus\n",
    "    try:\n",
    "        clicks = driver_k.find_element(By.XPATH, \"//div[@class='button']\")\n",
    "        clicks.click()\n",
    "    except:\n",
    "        continue  \n",
    "    time.sleep(2)\n",
    "    \n",
    "    scrolling = True\n",
    "    while scrolling:\n",
    "        old_page_source = driver_k.page_source\n",
    "        \n",
    "        # Use ActionChains to perform a PAGE_DOWN\n",
    "        ActionChains(driver_k).send_keys(Keys.PAGE_DOWN).perform()\n",
    "        \n",
    "        time.sleep(5)  \n",
    "        \n",
    "        new_page_source = driver_k.page_source\n",
    "        \n",
    "        if new_page_source == old_page_source:\n",
    "            scrolling = False\n",
    "\n",
    "    # Extract bus details\n",
    "    bus_name = driver_k.find_elements(By.XPATH, \"//div[@class='travels lh-24 f-bold d-color']\")\n",
    "    bus_type = driver_k.find_elements(By.XPATH, \"//div[@class='bus-type f-12 m-top-16 l-color evBus']\")\n",
    "    start_time = driver_k.find_elements(By.XPATH, \"//*[@class='dp-time f-19 d-color f-bold']\")\n",
    "    end_time = driver_k.find_elements(By.XPATH, \"//*[@class='bp-time f-19 d-color disp-Inline']\")\n",
    "    total_duration = driver_k.find_elements(By.XPATH, \"//*[@class='dur l-color lh-24']\")\n",
    "    try:\n",
    "        rating = driver_k.find_elements(By.XPATH,\"//div[@class='clearfix row-one']/div[@class='column-six p-right-10 w-10 fl']\")\n",
    "    except:\n",
    "        continue\n",
    "    price = driver_k.find_elements(By.XPATH, '//*[@class=\"fare d-block\"]')\n",
    "    seats = driver_k.find_elements(By.XPATH, \"//div[contains(@class, 'seat-left')]\")\n",
    "\n",
    "    # Append data to respective lists\n",
    "    for bus in bus_name:\n",
    "        Bus_names_k.append(bus.text)\n",
    "        Route_links.append(link)\n",
    "        Route_names.append(routes)\n",
    "    for bus_type_elem in bus_type:\n",
    "        Bus_types_k.append(bus_type_elem.text)\n",
    "    for start_time_elem in start_time:\n",
    "        Start_Time_k.append(start_time_elem.text)\n",
    "    for end_time_elem in end_time:\n",
    "        End_Time_k.append(end_time_elem.text)\n",
    "    for total_duration_elem in total_duration:\n",
    "        Total_Duration_k.append(total_duration_elem.text)\n",
    "    for ratings in rating:\n",
    "        Ratings_k.append(ratings.text)\n",
    "    for price_elem in price:\n",
    "        Prices_k.append(price_elem.text)\n",
    "    for seats_elem in seats:\n",
    "        Seats_Available_k.append(seats_elem.text)\n",
    "        \n",
    "print(\"Successfully Completed\")"
   ]
  },
  {
   "cell_type": "code",
   "execution_count": 5,
   "id": "e2c225c4-7ad3-4cd3-a0a1-7a6ceb1f98c8",
   "metadata": {},
   "outputs": [
    {
     "ename": "NameError",
     "evalue": "name 'Bus_names_k' is not defined",
     "output_type": "error",
     "traceback": [
      "\u001b[1;31m---------------------------------------------------------------------------\u001b[0m",
      "\u001b[1;31mNameError\u001b[0m                                 Traceback (most recent call last)",
      "Cell \u001b[1;32mIn[5], line 3\u001b[0m\n\u001b[0;32m      1\u001b[0m \u001b[38;5;66;03m# from list to convert data frame\u001b[39;00m\n\u001b[0;32m      2\u001b[0m data \u001b[38;5;241m=\u001b[39m {\n\u001b[1;32m----> 3\u001b[0m     \u001b[38;5;124m'\u001b[39m\u001b[38;5;124mBus_name\u001b[39m\u001b[38;5;124m'\u001b[39m: \u001b[43mBus_names_k\u001b[49m,\n\u001b[0;32m      4\u001b[0m     \u001b[38;5;124m'\u001b[39m\u001b[38;5;124mBus_type\u001b[39m\u001b[38;5;124m'\u001b[39m: Bus_types_k,\n\u001b[0;32m      5\u001b[0m     \u001b[38;5;124m'\u001b[39m\u001b[38;5;124mStart_time\u001b[39m\u001b[38;5;124m'\u001b[39m: Start_Time_k,\n\u001b[0;32m      6\u001b[0m     \u001b[38;5;124m'\u001b[39m\u001b[38;5;124mEnd_time\u001b[39m\u001b[38;5;124m'\u001b[39m: End_Time_k,\n\u001b[0;32m      7\u001b[0m     \u001b[38;5;124m'\u001b[39m\u001b[38;5;124mTotal_duration\u001b[39m\u001b[38;5;124m'\u001b[39m: Total_Duration_k,\n\u001b[0;32m      8\u001b[0m     \u001b[38;5;124m'\u001b[39m\u001b[38;5;124mPrice\u001b[39m\u001b[38;5;124m'\u001b[39m: Prices_k,\n\u001b[0;32m      9\u001b[0m     \u001b[38;5;124m\"\u001b[39m\u001b[38;5;124mSeats_Available\u001b[39m\u001b[38;5;124m\"\u001b[39m:Seats_Available_k,\n\u001b[0;32m     10\u001b[0m     \u001b[38;5;124m\"\u001b[39m\u001b[38;5;124mRatings\u001b[39m\u001b[38;5;124m\"\u001b[39m:Ratings_k,\n\u001b[0;32m     11\u001b[0m     \u001b[38;5;124m'\u001b[39m\u001b[38;5;124mRoute_link\u001b[39m\u001b[38;5;124m'\u001b[39m: Route_links,\n\u001b[0;32m     12\u001b[0m     \u001b[38;5;124m'\u001b[39m\u001b[38;5;124mRoute_name\u001b[39m\u001b[38;5;124m'\u001b[39m: Route_names\n\u001b[0;32m     13\u001b[0m }\n\u001b[0;32m     14\u001b[0m df1 \u001b[38;5;241m=\u001b[39m pd\u001b[38;5;241m.\u001b[39mDataFrame(data)\n",
      "\u001b[1;31mNameError\u001b[0m: name 'Bus_names_k' is not defined"
     ]
    }
   ],
   "source": [
    "# from list to convert data frame\n",
    "data = {\n",
    "    'Bus_name': Bus_names_k,\n",
    "    'Bus_type': Bus_types_k,\n",
    "    'Start_time': Start_Time_k,\n",
    "    'End_time': End_Time_k,\n",
    "    'Total_duration': Total_Duration_k,\n",
    "    'Price': Prices_k,\n",
    "    \"Seats_Available\":Seats_Available_k,\n",
    "    \"Ratings\":Ratings_k,\n",
    "    'Route_link': Route_links,\n",
    "    'Route_name': Route_names\n",
    "}\n",
    "df1 = pd.DataFrame(data)"
   ]
  },
  {
   "cell_type": "code",
   "execution_count": null,
   "id": "f90974af-53d7-42dd-8419-a61b1f6480e0",
   "metadata": {},
   "outputs": [],
   "source": [
    "\n",
    "df1 "
   ]
  },
  {
   "cell_type": "code",
   "execution_count": null,
   "id": "81719a17-d8e9-4174-9711-93db36f4f56a",
   "metadata": {},
   "outputs": [],
   "source": []
  }
 ],
 "metadata": {
  "kernelspec": {
   "display_name": "Python 3 (ipykernel)",
   "language": "python",
   "name": "python3"
  },
  "language_info": {
   "codemirror_mode": {
    "name": "ipython",
    "version": 3
   },
   "file_extension": ".py",
   "mimetype": "text/x-python",
   "name": "python",
   "nbconvert_exporter": "python",
   "pygments_lexer": "ipython3",
   "version": "3.11.8"
  }
 },
 "nbformat": 4,
 "nbformat_minor": 5
}
